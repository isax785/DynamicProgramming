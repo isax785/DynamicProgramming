{
 "cells": [
  {
   "cell_type": "markdown",
   "id": "61366c3e",
   "metadata": {},
   "source": [
    "# DEV - Dynamic Programming"
   ]
  },
  {
   "cell_type": "code",
   "execution_count": 2,
   "id": "58439f59",
   "metadata": {},
   "outputs": [],
   "source": [
    "%load_ext autoreload\n",
    "%autoreload 2\n",
    "\n",
    "import os\n",
    "import sys\n",
    "\n",
    "CWD = os.path.abspath('')\n",
    "sys.path.append(os.path.dirname(CWD))"
   ]
  },
  {
   "cell_type": "markdown",
   "id": "573f584d",
   "metadata": {},
   "source": [
    "# Longest Palindromic Substring\n",
    "\n",
    "Given a string s, find the longest palindromic substring in s. You may assume \n",
    "that the maximum length of s is 1000.\n",
    " \n",
    "Example 1:\n",
    "```text\n",
    "    Input: \"babad\"\n",
    "    Output: \"bab\"\n",
    "```\n",
    "\n",
    "Note: \"aba\" is also a valid answer.\n",
    "\n",
    "Example 2:\n",
    "``` text\n",
    "    Input: \"cbbd\"\n",
    "    Output: \"bb\"\n",
    "```"
   ]
  },
  {
   "cell_type": "code",
   "execution_count": 3,
   "id": "b2f37fe8",
   "metadata": {},
   "outputs": [],
   "source": [
    "from py.Palindromes import ext_longest_palindrome, ext_longest_palindrome_center, longest_palindrome_first, longest_palindrome_center"
   ]
  },
  {
   "cell_type": "markdown",
   "id": "b1b3212c",
   "metadata": {},
   "source": [
    "**Pseudocode**\n",
    "\n",
    "`longest_palindrome_central(...)`:\n",
    "\n",
    "- [1] searching from **central** character\n",
    "  - (a) even number of characters\n",
    "  - (b) odd number of characters\n",
    "  - \n",
    "```text\n",
    "for i in range(N):\n",
    "    (a) l=i, r=i+1 \n",
    "    (b) l=i-1, r=i+1 \n",
    "```\n",
    "\n",
    "`logest_palindrome_first(...)`\n",
    "\n",
    "- [2] searching from **first** character\n",
    "\n",
    "```text\n",
    "for i in range(N-1):\n",
    "    for j in range(i+1, N):\n",
    "    if s[i] == s[j]\n",
    "        for k in range(j-i):\n",
    "            s(i+k) == s[j-k]\n"
   ]
  },
  {
   "cell_type": "code",
   "execution_count": 4,
   "id": "62fba3c8",
   "metadata": {},
   "outputs": [
    {
     "name": "stdout",
     "output_type": "stream",
     "text": [
      "CENTRAL: ('aa', 2) aa\n",
      "FIRST:   ('a', 1) aa\n",
      "EX-CEN:  aa aa\n",
      "EX-1st:  aa aa\n",
      "CENTRAL: ('aaa', 3) aaa\n",
      "FIRST:   ('a', 1) aaa\n",
      "EX-CEN:  aaa aaa\n",
      "EX-1st:  aaa aaa\n",
      "CENTRAL: ('aa', 2) aa\n",
      "FIRST:   ('b', 1) aa\n",
      "EX-CEN:  a aa\n",
      "EX-1st:  a aa\n",
      "CENTRAL: ('aaa', 3) aaa\n",
      "FIRST:   ('b', 1) aaa\n",
      "EX-CEN:  aa aaa\n",
      "EX-1st:  aa aaa\n",
      "CENTRAL: ('baab', 4) baab\n",
      "FIRST:   ('g', 1) baab\n",
      "EX-CEN:   baab\n",
      "EX-1st:   baab\n"
     ]
    }
   ],
   "source": [
    "TESTS = [\"aabc\", \"aaabc\", \"baac\", \"baaac\", \"gfdsbaabadsafa\"]\n",
    "ANSW = [\"aa\", \"aaa\", \"aa\", \"aaa\", \"baab\"]\n",
    "\n",
    "for i, test in enumerate(TESTS):\n",
    "    print(\"CENTRAL:\", longest_palindrome_center(test), ANSW[i])\n",
    "    print(\"FIRST:  \", longest_palindrome_first(test), ANSW[i])\n",
    "    print(\"EX-CEN: \", ext_longest_palindrome_center(test), ANSW[i])\n",
    "    print(\"EX-1st: \", ext_longest_palindrome(test), ANSW[i])"
   ]
  },
  {
   "cell_type": "markdown",
   "id": "ab2c1b6e",
   "metadata": {},
   "source": [
    "# Maximum Subarray\n",
    "\n",
    "> Explanation: while traversing the array, the previous one is added only if positive. This means that for any position the maximum sum possible with the previous numbers is obtained.\n",
    "\n",
    "- [ ] `#u` apply the **diviede and conquer** approach\n",
    "- [ ] `#a` derive the sequence of numbers whose sum is the maximum value\n",
    "\n",
    "Given an integer array nums, find the contiguous subarray (containing at least \n",
    "one number) which has the largest sum and return its sum.\n",
    " \n",
    "Example:\n",
    "```text\n",
    "    Input: [-2,1,-3,4,-1,2,1,-5,4],\n",
    "    Output: 6\n",
    "```\n",
    "Explanation: [4,-1,2,1] has the largest sum = 6.\n",
    "\n",
    "Follow up:\n",
    " \n",
    "If you have figured out the `O(n)` solution, try coding another solution using the *divide and conquer* approach, which is more subtle.\n"
   ]
  },
  {
   "cell_type": "code",
   "execution_count": 5,
   "id": "fde0c60f",
   "metadata": {},
   "outputs": [],
   "source": [
    "from py.Subarrays import max_subarray"
   ]
  },
  {
   "cell_type": "code",
   "execution_count": 6,
   "id": "29611bca",
   "metadata": {},
   "outputs": [
    {
     "name": "stdout",
     "output_type": "stream",
     "text": [
      "6 6\n"
     ]
    }
   ],
   "source": [
    "TESTS = [[-2,1,-3,4,-1,2,1,-5,4]]\n",
    "ANSW = [6]\n",
    "\n",
    "for i, test in enumerate(TESTS):\n",
    "    print(max_subarray(test), ANSW[i])"
   ]
  },
  {
   "cell_type": "markdown",
   "id": "b9a1aea5",
   "metadata": {},
   "source": [
    "# Paths"
   ]
  },
  {
   "cell_type": "markdown",
   "id": "138e3baf",
   "metadata": {},
   "source": [
    "## Unique Paths\n",
    "\n",
    "A robot is located at the top-left corner of a m x n grid (marked 'Start' in the diagram below).\n",
    " \n",
    "The robot can only move either down or right at any point in time. The robot is trying to reach the bottom-right corner of the grid (marked 'Finish' in the diagram below).\n",
    " \n",
    "How many possible unique paths are there? \n",
    " \n",
    "Above is a 7 x 3 grid. How many possible unique paths are there?\n",
    " \n",
    "Note: m and n will be at most 100.\n",
    " \n",
    "Example 1:\n",
    "\n",
    "```text\n",
    "    Input: m = 3, n = 2\n",
    "    Output: 3\n",
    "```\n",
    "\n",
    "Explanation - From the top-left corner, there are a total of 3 ways to reach the bottom-right corner:\n",
    "\n",
    "1. Right -> Right -> Down\n",
    "2. Right -> Down -> Right\n",
    "3. Down -> Right -> Right\n",
    "\n",
    "Example 2:\n",
    "\n",
    "```text\n",
    "    Input: m = 7, n = 3\n",
    "    Output: 28\n",
    "```"
   ]
  },
  {
   "cell_type": "code",
   "execution_count": 7,
   "id": "e997c47a",
   "metadata": {},
   "outputs": [],
   "source": [
    "from py.Paths import unique_paths"
   ]
  },
  {
   "cell_type": "code",
   "execution_count": 11,
   "id": "8765acb8",
   "metadata": {},
   "outputs": [
    {
     "name": "stdout",
     "output_type": "stream",
     "text": [
      "(7, 3) 28 28\n",
      "(100, 100) 22750883079422934966181954039568885395604168260154104734000 ?\n"
     ]
    }
   ],
   "source": [
    "TESTS = [(7,3), (100, 100)]\n",
    "ANSW = [28, \"?\"]\n",
    "\n",
    "for i, test in enumerate(TESTS):\n",
    "    print(test, unique_paths(*test), ANSW[i])"
   ]
  }
 ],
 "metadata": {
  "kernelspec": {
   "display_name": "Python 3",
   "language": "python",
   "name": "python3"
  },
  "language_info": {
   "codemirror_mode": {
    "name": "ipython",
    "version": 3
   },
   "file_extension": ".py",
   "mimetype": "text/x-python",
   "name": "python",
   "nbconvert_exporter": "python",
   "pygments_lexer": "ipython3",
   "version": "3.11.7"
  }
 },
 "nbformat": 4,
 "nbformat_minor": 5
}
