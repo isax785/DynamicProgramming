{
 "cells": [
  {
   "cell_type": "markdown",
   "id": "61366c3e",
   "metadata": {},
   "source": [
    "# DEV - Dynamic Programming"
   ]
  },
  {
   "cell_type": "code",
   "execution_count": 1,
   "id": "58439f59",
   "metadata": {},
   "outputs": [],
   "source": [
    "%load_ext autoreload\n",
    "%autoreload 2\n",
    "\n",
    "import os\n",
    "import sys\n",
    "\n",
    "CWD = os.path.abspath('')\n",
    "sys.path.append(os.path.dirname(CWD))"
   ]
  },
  {
   "cell_type": "markdown",
   "id": "573f584d",
   "metadata": {},
   "source": [
    "## Longest Palindromic Substring\n",
    "\n",
    "Given a string s, find the longest palindromic substring in s. You may assume \n",
    "that the maximum length of s is 1000.\n",
    " \n",
    "Example 1:\n",
    "```text\n",
    "    Input: \"babad\"\n",
    "    Output: \"bab\"\n",
    "```\n",
    "\n",
    "Note: \"aba\" is also a valid answer.\n",
    "\n",
    "Example 2:\n",
    "``` text\n",
    "    Input: \"cbbd\"\n",
    "    Output: \"bb\"\n",
    "```"
   ]
  },
  {
   "cell_type": "code",
   "execution_count": null,
   "id": "b2f37fe8",
   "metadata": {},
   "outputs": [],
   "source": [
    "from py.Palindromes import longest_palindrome, longest_palindrome_center"
   ]
  },
  {
   "cell_type": "code",
   "execution_count": null,
   "id": "4b5ded73",
   "metadata": {},
   "outputs": [],
   "source": [
    "TESTS = [\"aabc\", \"aaabc\", \"baac\", \"baaac\", \"gfdsbaabadsafa\"]\n",
    "ANSW = [\"aa\", \"aaa\", \"aa\", \"aaa\", \"baab\"]"
   ]
  },
  {
   "cell_type": "markdown",
   "id": "b1b3212c",
   "metadata": {},
   "source": [
    "**Pseudocode**\n",
    "\n",
    "Strategies:\n",
    "- [1] seraching from **central** character\n",
    "  - (a) even number of characters\n",
    "  - (b) odd number of characters\n",
    "  - \n",
    "```text\n",
    "for i in range(N):\n",
    "    (a) l=i, r=i+1 \n",
    "    (b) l=i-1, r=i+1 \n",
    "```\n",
    "- [2] searching from **first** character\n",
    "\n",
    "\n",
    "```text\n",
    "for i in range(N-1):\n",
    "    for j in range(i+1, N):\n",
    "    if s[i] == s[j]\n",
    "        for k in range(1, j-1):\n",
    "            s(i+k) == s[j-k]\n"
   ]
  },
  {
   "cell_type": "code",
   "execution_count": null,
   "id": "e420bcf8",
   "metadata": {},
   "outputs": [],
   "source": [
    "def palindrome_center(s:str) -> tuple[str, int]:\n",
    "    for i in range(len(s)):\n",
    "        \n"
   ]
  },
  {
   "cell_type": "markdown",
   "id": "ab2c1b6e",
   "metadata": {},
   "source": [
    "## Maximum Subarray\n",
    "\n",
    "Given an integer array nums, find the contiguous subarray (containing at least \n",
    "one number) which has the largest sum and return its sum.\n",
    " \n",
    "Example:\n",
    "```text\n",
    "    Input: [-2,1,-3,4,-1,2,1,-5,4],\n",
    "    Output: 6\n",
    "```\n",
    "Explanation: [4,-1,2,1] has the largest sum = 6.\n",
    "\n",
    "Follow up:\n",
    " \n",
    "If you have figured out the O(n) solution, try coding another solution using the \n",
    "divide and conquer approach, which is more subtle.\n"
   ]
  }
 ],
 "metadata": {
  "kernelspec": {
   "display_name": "Python 3",
   "language": "python",
   "name": "python3"
  },
  "language_info": {
   "codemirror_mode": {
    "name": "ipython",
    "version": 3
   },
   "file_extension": ".py",
   "mimetype": "text/x-python",
   "name": "python",
   "nbconvert_exporter": "python",
   "pygments_lexer": "ipython3",
   "version": "3.11.7"
  }
 },
 "nbformat": 4,
 "nbformat_minor": 5
}
