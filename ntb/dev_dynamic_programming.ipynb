{
 "cells": [
  {
   "cell_type": "markdown",
   "id": "61366c3e",
   "metadata": {},
   "source": [
    "# DEV - Dynamic Programming"
   ]
  },
  {
   "cell_type": "code",
   "execution_count": 2,
   "id": "58439f59",
   "metadata": {},
   "outputs": [
    {
     "name": "stdout",
     "output_type": "stream",
     "text": [
      "The autoreload extension is already loaded. To reload it, use:\n",
      "  %reload_ext autoreload\n"
     ]
    }
   ],
   "source": [
    "%load_ext autoreload\n",
    "%autoreload 2\n",
    "\n",
    "import os\n",
    "import sys\n",
    "\n",
    "CWD = os.path.abspath('')\n",
    "sys.path.append(os.path.dirname(CWD))"
   ]
  },
  {
   "cell_type": "markdown",
   "id": "573f584d",
   "metadata": {},
   "source": [
    "# Longest Palindromic Substring\n",
    "\n",
    "Given a string s, find the longest palindromic substring in s. You may assume \n",
    "that the maximum length of s is 1000.\n",
    " \n",
    "Example 1:\n",
    "```text\n",
    "    Input: \"babad\"\n",
    "    Output: \"bab\"\n",
    "```\n",
    "\n",
    "Note: \"aba\" is also a valid answer.\n",
    "\n",
    "Example 2:\n",
    "``` text\n",
    "    Input: \"cbbd\"\n",
    "    Output: \"bb\"\n",
    "```"
   ]
  },
  {
   "cell_type": "code",
   "execution_count": 3,
   "id": "b2f37fe8",
   "metadata": {},
   "outputs": [],
   "source": [
    "from py.Palindromes import ext_longest_palindrome, ext_longest_palindrome_center, longest_palindrome_first, longest_palindrome_center"
   ]
  },
  {
   "cell_type": "markdown",
   "id": "b1b3212c",
   "metadata": {},
   "source": [
    "**Pseudocode**\n",
    "\n",
    "`longest_palindrome_central(...)`:\n",
    "\n",
    "- [1] searching from **central** character\n",
    "  - (a) even number of characters\n",
    "  - (b) odd number of characters\n",
    "  - \n",
    "```text\n",
    "for i in range(N):\n",
    "    (a) l=i, r=i+1 \n",
    "    (b) l=i-1, r=i+1 \n",
    "```\n",
    "\n",
    "`logest_palindrome_first(...)`\n",
    "\n",
    "- [2] searching from **first** character\n",
    "\n",
    "```text\n",
    "for i in range(N-1):\n",
    "    for j in range(i+1, N):\n",
    "    if s[i] == s[j]\n",
    "        for k in range(j-i):\n",
    "            s(i+k) == s[j-k]\n"
   ]
  },
  {
   "cell_type": "code",
   "execution_count": 4,
   "id": "62fba3c8",
   "metadata": {},
   "outputs": [
    {
     "name": "stdout",
     "output_type": "stream",
     "text": [
      "CENTRAL: ('aa', 2) aa\n",
      "FIRST:   ('a', 1) aa\n",
      "EX-CEN:  aa aa\n",
      "EX-1st:  aa aa\n",
      "CENTRAL: ('aaa', 3) aaa\n",
      "FIRST:   ('a', 1) aaa\n",
      "EX-CEN:  aaa aaa\n",
      "EX-1st:  aaa aaa\n",
      "CENTRAL: ('aa', 2) aa\n",
      "FIRST:   ('b', 1) aa\n",
      "EX-CEN:  a aa\n",
      "EX-1st:  a aa\n",
      "CENTRAL: ('aaa', 3) aaa\n",
      "FIRST:   ('b', 1) aaa\n",
      "EX-CEN:  aa aaa\n",
      "EX-1st:  aa aaa\n",
      "CENTRAL: ('baab', 4) baab\n",
      "FIRST:   ('g', 1) baab\n",
      "EX-CEN:   baab\n",
      "EX-1st:   baab\n"
     ]
    }
   ],
   "source": [
    "TESTS = [\"aabc\", \"aaabc\", \"baac\", \"baaac\", \"gfdsbaabadsafa\"]\n",
    "ANSW = [\"aa\", \"aaa\", \"aa\", \"aaa\", \"baab\"]\n",
    "\n",
    "for i, test in enumerate(TESTS):\n",
    "    print(\"CENTRAL:\", longest_palindrome_center(test), ANSW[i])\n",
    "    print(\"FIRST:  \", longest_palindrome_first(test), ANSW[i])\n",
    "    print(\"EX-CEN: \", ext_longest_palindrome_center(test), ANSW[i])\n",
    "    print(\"EX-1st: \", ext_longest_palindrome(test), ANSW[i])"
   ]
  },
  {
   "cell_type": "markdown",
   "id": "ab2c1b6e",
   "metadata": {},
   "source": [
    "# Maximum Subarray\n",
    "\n",
    "> Explanation: while traversing the array, the previous one is added only if positive. This means that for any position the maximum sum possible with the previous numbers is obtained.\n",
    "\n",
    "- [ ] `#u` apply the **diviede and conquer** approach\n",
    "- [ ] `#a` derive the sequence of numbers whose sum is the maximum value\n",
    "\n",
    "Given an integer array nums, find the contiguous subarray (containing at least \n",
    "one number) which has the largest sum and return its sum.\n",
    " \n",
    "Example:\n",
    "```text\n",
    "    Input: [-2,1,-3,4,-1,2,1,-5,4],\n",
    "    Output: 6\n",
    "```\n",
    "Explanation: [4,-1,2,1] has the largest sum = 6.\n",
    "\n",
    "Follow up:\n",
    " \n",
    "If you have figured out the `O(n)` solution, try coding another solution using the *divide and conquer* approach, which is more subtle.\n"
   ]
  },
  {
   "cell_type": "code",
   "execution_count": 5,
   "id": "fde0c60f",
   "metadata": {},
   "outputs": [],
   "source": [
    "from py.Subarrays import max_subarray"
   ]
  },
  {
   "cell_type": "code",
   "execution_count": 6,
   "id": "29611bca",
   "metadata": {},
   "outputs": [
    {
     "name": "stdout",
     "output_type": "stream",
     "text": [
      "6 6\n"
     ]
    }
   ],
   "source": [
    "TESTS = [[-2,1,-3,4,-1,2,1,-5,4]]\n",
    "ANSW = [6]\n",
    "\n",
    "for i, test in enumerate(TESTS):\n",
    "    print(max_subarray(test), ANSW[i])"
   ]
  },
  {
   "cell_type": "markdown",
   "id": "b9a1aea5",
   "metadata": {},
   "source": [
    "# Paths"
   ]
  },
  {
   "cell_type": "markdown",
   "id": "138e3baf",
   "metadata": {},
   "source": [
    "## Unique Paths\n",
    "\n",
    "> The grid is `(n+1, m+1)` since we are moving within the range `[[0:m],[0:n]]`.\n",
    "\n",
    "A robot is located at the top-left corner of a m x n grid (marked 'Start' in the diagram below).\n",
    " \n",
    "The robot can only move either down or right at any point in time. The robot is trying to reach the bottom-right corner of the grid (marked 'Finish' in the diagram below).\n",
    " \n",
    "How many possible unique paths are there? \n",
    " \n",
    "Above is a 7 x 3 grid. How many possible unique paths are there?\n",
    " \n",
    "Note: m and n will be at most 100.\n",
    " \n",
    "Example 1:\n",
    "\n",
    "```text\n",
    "    Input: m = 3, n = 2\n",
    "    Output: 3\n",
    "```\n",
    "\n",
    "Explanation - From the top-left corner, there are a total of 3 ways to reach the bottom-right corner:\n",
    "\n",
    "1. Right -> Right -> Down\n",
    "2. Right -> Down -> Right\n",
    "3. Down -> Right -> Right\n",
    "\n",
    "Example 2:\n",
    "\n",
    "```text\n",
    "    Input: m = 7, n = 3\n",
    "    Output: 28\n",
    "```"
   ]
  },
  {
   "cell_type": "code",
   "execution_count": 11,
   "id": "e997c47a",
   "metadata": {},
   "outputs": [],
   "source": [
    "from py.Paths import unique_paths, unique_paths_recursion, unique_paths_memo"
   ]
  },
  {
   "cell_type": "code",
   "execution_count": 4,
   "id": "806b6cde",
   "metadata": {},
   "outputs": [
    {
     "name": "stdout",
     "output_type": "stream",
     "text": [
      "[0, 1, 0, 0, 0, 0, 0, 0, 0, 0, 0]\n",
      "[0, 1, 1, 1, 1, 1, 1, 1, 1, 1, 1]\n",
      "[0, 1, 2, 3, 4, 5, 6, 7, 8, 9, 10]\n",
      "[0, 1, 3, 6, 10, 15, 21, 28, 36, 45, 55]\n",
      "[0, 1, 4, 10, 20, 35, 56, 84, 120, 165, 220]\n",
      "[0, 1, 5, 15, 35, 70, 126, 210, 330, 495, 715]\n",
      "[0, 1, 6, 21, 56, 126, 252, 462, 792, 1287, 2002]\n",
      "[0, 1, 7, 28, 84, 210, 462, 924, 1716, 3003, 5005]\n",
      "[0, 1, 8, 36, 120, 330, 792, 1716, 3432, 6435, 11440]\n",
      "[0, 1, 9, 45, 165, 495, 1287, 3003, 6435, 12870, 24310]\n",
      "[0, 1, 10, 55, 220, 715, 2002, 5005, 11440, 24310, 48620]\n"
     ]
    },
    {
     "data": {
      "text/plain": [
       "48620"
      ]
     },
     "execution_count": 4,
     "metadata": {},
     "output_type": "execute_result"
    }
   ],
   "source": [
    "unique_paths(10, 10, DEBUG=True)"
   ]
  },
  {
   "cell_type": "code",
   "execution_count": 5,
   "id": "8765acb8",
   "metadata": {},
   "outputs": [
    {
     "name": "stdout",
     "output_type": "stream",
     "text": [
      "(7, 3) 28 28\n",
      "(100, 100) 22750883079422934966181954039568885395604168260154104734000 ?\n"
     ]
    }
   ],
   "source": [
    "TESTS = [(7,3), (100, 100)]\n",
    "ANSW = [28, \"?\"]\n",
    "\n",
    "for i, test in enumerate(TESTS):\n",
    "    print(test, unique_paths(*test), ANSW[i])"
   ]
  },
  {
   "cell_type": "code",
   "execution_count": 12,
   "id": "c0019433",
   "metadata": {},
   "outputs": [
    {
     "name": "stdout",
     "output_type": "stream",
     "text": [
      "6\n",
      "6\n",
      "6\n"
     ]
    }
   ],
   "source": [
    "print(unique_paths(3, 3))\n",
    "print(unique_paths_recursion(3, 3))\n",
    "print(unique_paths_memo(3, 3))\n"
   ]
  },
  {
   "cell_type": "markdown",
   "id": "5a178459",
   "metadata": {},
   "source": [
    "## Unique Paths II\n",
    "\n",
    "A robot is located at the top-left corner of a m x n grid (marked 'Start').\n",
    " \n",
    "The robot can only move either down or right at any point in time. The robot is trying to reach the bottom-right corner of the grid (marked 'Finish').\n",
    " \n",
    "Now consider if some obstacles are added to the grids. How many unique paths would there be?\n",
    " \n",
    "An obstacle and empty space is marked as 1 and 0 respectively in the grid.\n",
    " \n",
    "Note: m and n will be at most 100.\n",
    " \n",
    "Example 1:\n",
    " \n",
    "```text\n",
    "    Input:\n",
    "    [\n",
    "    [0,0,0],\n",
    "    [0,1,0],\n",
    "    [0,0,0]\n",
    "    ]\n",
    "\n",
    "    Output: 2\n",
    "```\n",
    "\n",
    "Explanation:\n",
    "There is one obstacle in the middle of the 3x3 grid above. There are two ways to reach the bottom-right corner:\n",
    "1. Right -> Right -> Down -> Down\n",
    "2. Down -> Down -> Right -> Right\n"
   ]
  }
 ],
 "metadata": {
  "kernelspec": {
   "display_name": "Python 3",
   "language": "python",
   "name": "python3"
  },
  "language_info": {
   "codemirror_mode": {
    "name": "ipython",
    "version": 3
   },
   "file_extension": ".py",
   "mimetype": "text/x-python",
   "name": "python",
   "nbconvert_exporter": "python",
   "pygments_lexer": "ipython3",
   "version": "3.10.12"
  }
 },
 "nbformat": 4,
 "nbformat_minor": 5
}
