{
 "cells": [
  {
   "cell_type": "markdown",
   "id": "61366c3e",
   "metadata": {},
   "source": [
    "# DEV - Dynamic Programming"
   ]
  },
  {
   "cell_type": "code",
   "execution_count": 1,
   "id": "58439f59",
   "metadata": {},
   "outputs": [],
   "source": [
    "%load_ext autoreload\n",
    "%autoreload 2\n",
    "\n",
    "import os\n",
    "import sys\n",
    "\n",
    "CWD = os.path.abspath('')\n",
    "sys.path.append(os.path.dirname(CWD))"
   ]
  },
  {
   "cell_type": "markdown",
   "id": "573f584d",
   "metadata": {},
   "source": [
    "## Longest Palindromic Substring\n",
    "\n",
    "Given a string s, find the longest palindromic substring in s. You may assume \n",
    "that the maximum length of s is 1000.\n",
    " \n",
    "Example 1:\n",
    "```text\n",
    "    Input: \"babad\"\n",
    "    Output: \"bab\"\n",
    "```\n",
    "\n",
    "Note: \"aba\" is also a valid answer.\n",
    "\n",
    "Example 2:\n",
    "``` text\n",
    "    Input: \"cbbd\"\n",
    "    Output: \"bb\"\n",
    "```"
   ]
  },
  {
   "cell_type": "code",
   "execution_count": null,
   "id": "b2f37fe8",
   "metadata": {},
   "outputs": [],
   "source": [
    "from py.Palindromes import longest_palindrome, longest_palindrome_center"
   ]
  }
 ],
 "metadata": {
  "kernelspec": {
   "display_name": "Python 3",
   "language": "python",
   "name": "python3"
  },
  "language_info": {
   "codemirror_mode": {
    "name": "ipython",
    "version": 3
   },
   "file_extension": ".py",
   "mimetype": "text/x-python",
   "name": "python",
   "nbconvert_exporter": "python",
   "pygments_lexer": "ipython3",
   "version": "3.11.7"
  }
 },
 "nbformat": 4,
 "nbformat_minor": 5
}
