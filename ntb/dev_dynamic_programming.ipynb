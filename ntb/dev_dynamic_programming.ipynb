{
 "cells": [
  {
   "cell_type": "markdown",
   "id": "61366c3e",
   "metadata": {},
   "source": [
    "# DEV - Dynamic Programming"
   ]
  },
  {
   "cell_type": "code",
   "execution_count": 1,
   "id": "58439f59",
   "metadata": {},
   "outputs": [],
   "source": [
    "%load_ext autoreload\n",
    "%autoreload 2\n",
    "\n",
    "import os\n",
    "import sys\n",
    "\n",
    "CWD = os.path.abspath('')\n",
    "sys.path.append(os.path.dirname(CWD))"
   ]
  },
  {
   "cell_type": "markdown",
   "id": "573f584d",
   "metadata": {},
   "source": [
    "## Longest Palindromic Substring\n",
    "\n",
    "- [ ] `#f` ``\n",
    "\n",
    "Given a string s, find the longest palindromic substring in s. You may assume \n",
    "that the maximum length of s is 1000.\n",
    " \n",
    "Example 1:\n",
    "```text\n",
    "    Input: \"babad\"\n",
    "    Output: \"bab\"\n",
    "```\n",
    "\n",
    "Note: \"aba\" is also a valid answer.\n",
    "\n",
    "Example 2:\n",
    "``` text\n",
    "    Input: \"cbbd\"\n",
    "    Output: \"bb\"\n",
    "```"
   ]
  },
  {
   "cell_type": "code",
   "execution_count": null,
   "id": "b2f37fe8",
   "metadata": {},
   "outputs": [],
   "source": [
    "from py.Palindromes import longest_palindrome, longest_palindrome_center"
   ]
  },
  {
   "cell_type": "markdown",
   "id": "b1b3212c",
   "metadata": {},
   "source": [
    "**Pseudocode**\n",
    "\n",
    "Strategies:\n",
    "- [1] searching from **central** character\n",
    "  - (a) even number of characters\n",
    "  - (b) odd number of characters\n",
    "```text\n",
    "for i in range(N):\n",
    "    (a) l=i, r=i+1 \n",
    "    (b) l=i-1, r=i+1 \n",
    "```\n",
    "\n",
    "- [2] searching from **first** character\n",
    "\n",
    "```text\n",
    "for i in range(N-1):\n",
    "    for j in range(i+1, N):\n",
    "    if s[i] == s[j]\n",
    "        for k in range(j-i):\n",
    "            s(i+k) == s[j-k]\n"
   ]
  },
  {
   "cell_type": "code",
   "execution_count": 26,
   "id": "e420bcf8",
   "metadata": {},
   "outputs": [],
   "source": [
    "def palindromic_substring_central(s:str) -> tuple[str, int]:\n",
    "    \"\"\" searching for longest palindromic substring\n",
    "     starting from its CENTRAL character\n",
    "     return:\n",
    "     - sub: str, substring\n",
    "     - size: int, substring length\n",
    "     \"\"\"\n",
    "    n = len(s)\n",
    "    size = 0 if n == 0 else 1\n",
    "    start = 0\n",
    "    for i in range(n):\n",
    "        # odd\n",
    "        l = max(0, i-1)\n",
    "        r = min(i+1, n-1)\n",
    "        while l >= 0 and r < n and s[l] == s[r]:\n",
    "            size_temp = r - l + 1\n",
    "            if size < size_temp:\n",
    "                size = size_temp\n",
    "                start = l\n",
    "            l -= 1\n",
    "            r += 1\n",
    "        # even\n",
    "        l = max(0, i)\n",
    "        r = min(i+1, n-1)\n",
    "        while l >= 0 and r < n and s[l] == s[r]:\n",
    "            size_temp = r - l + 1\n",
    "            if size < size_temp:\n",
    "                size = size_temp\n",
    "                start = l\n",
    "            l -= 1\n",
    "            r += 1\n",
    "    sub = s[start:start+size]\n",
    "    return sub, size\n",
    "\n",
    "\n",
    "def palindromic_substring_first(s:str) -> tuple[str, int]:\n",
    "    \"\"\" searching for longest palindromic substring\n",
    "     starting from its FIRST character\n",
    "     return:\n",
    "     - sub: str, substring\n",
    "     - size: int, substring length\n",
    "     \"\"\"\n",
    "    n = len(s)\n",
    "    size = 0 if n == 0 else 1\n",
    "    start = 0\n",
    "    for i in range(n-1):\n",
    "        for j in range(i+1, n):\n",
    "            if s[i] == s[j]:  # first and last characters are equal\n",
    "                pal = True\n",
    "                for k in range(j-i):\n",
    "                    if s[i+k] != s[j-k]:\n",
    "                        pal = False\n",
    "                if pal:\n",
    "                    size_temp = i - j + 1\n",
    "                    if size < size_temp:\n",
    "                        size = size_temp\n",
    "                        start = i\n",
    "    sub = s[start:start+size]\n",
    "    return sub, size"
   ]
  },
  {
   "cell_type": "code",
   "execution_count": null,
   "id": "62fba3c8",
   "metadata": {},
   "outputs": [
    {
     "name": "stdout",
     "output_type": "stream",
     "text": [
      "CENTRAL: ('aa', 2) aa\n",
      "FIRST:   ('a', 1) aa\n",
      "CENTRAL: ('aaa', 3) aaa\n",
      "FIRST:   ('a', 1) aaa\n",
      "CENTRAL: ('aa', 2) aa\n",
      "FIRST:   ('b', 1) aa\n",
      "CENTRAL: ('aaa', 3) aaa\n",
      "FIRST:   ('b', 1) aaa\n",
      "CENTRAL: ('baab', 4) baab\n",
      "FIRST:   ('g', 1) baab\n"
     ]
    }
   ],
   "source": [
    "TESTS = [\"aabc\", \"aaabc\", \"baac\", \"baaac\", \"gfdsbaabadsafa\"]\n",
    "ANSW = [\"aa\", \"aaa\", \"aa\", \"aaa\", \"baab\"]\n",
    "\n",
    "for i, test in enumerate(TESTS):\n",
    "    print(\"CENTRAL:\", palindromic_substring_central(test), ANSW[i])\n",
    "    print(\"FIRST:  \", palindromic_substring_first(test), ANSW[i])\n",
    "    print(\"EX-1st: \", longest_palindrome(test), ANSW[i])\n",
    "    print(\"EX-CEN: \", longest_palindrome_center(test), ANSW[i])"
   ]
  },
  {
   "cell_type": "markdown",
   "id": "ab2c1b6e",
   "metadata": {},
   "source": [
    "## Maximum Subarray\n",
    "\n",
    "Given an integer array nums, find the contiguous subarray (containing at least \n",
    "one number) which has the largest sum and return its sum.\n",
    " \n",
    "Example:\n",
    "```text\n",
    "    Input: [-2,1,-3,4,-1,2,1,-5,4],\n",
    "    Output: 6\n",
    "```\n",
    "Explanation: [4,-1,2,1] has the largest sum = 6.\n",
    "\n",
    "Follow up:\n",
    " \n",
    "If you have figured out the O(n) solution, try coding another solution using the \n",
    "divide and conquer approach, which is more subtle.\n"
   ]
  }
 ],
 "metadata": {
  "kernelspec": {
   "display_name": "Python 3",
   "language": "python",
   "name": "python3"
  },
  "language_info": {
   "codemirror_mode": {
    "name": "ipython",
    "version": 3
   },
   "file_extension": ".py",
   "mimetype": "text/x-python",
   "name": "python",
   "nbconvert_exporter": "python",
   "pygments_lexer": "ipython3",
   "version": "3.11.7"
  }
 },
 "nbformat": 4,
 "nbformat_minor": 5
}
