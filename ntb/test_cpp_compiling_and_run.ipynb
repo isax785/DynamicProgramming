{
 "cells": [
  {
   "cell_type": "markdown",
   "id": "62ec70f2",
   "metadata": {},
   "source": [
    "# Test"
   ]
  },
  {
   "cell_type": "code",
   "execution_count": 1,
   "id": "17570537",
   "metadata": {},
   "outputs": [],
   "source": [
    "%load_ext autoreload\n",
    "%autoreload 2\n",
    "\n",
    "import os\n",
    "import sys\n",
    "\n",
    "CWD = os.path.abspath('')\n",
    "sys.path.append(os.path.dirname(CWD))\n",
    "\n",
    "from obj.compile_run_cpp import *"
   ]
  },
  {
   "cell_type": "code",
   "execution_count": 7,
   "id": "8df64bb2",
   "metadata": {},
   "outputs": [
    {
     "name": "stdout",
     "output_type": "stream",
     "text": [
      "Compiling: g++ c:\\Users\\isax7\\playground\\DynamicProgramming\\ntb\\../cpp/Fibonacci.cpp -o Fibonacci.exe\n",
      "Compilation successful!\n",
      "\n",
      "Running: ./Fibonacci.exe\n",
      "Execution failed with error code 3221225725\n",
      "Program Error (stdout):\n",
      " BF: 30\n",
      "Result: 832040\n",
      "Exec Time: 3 ms\n",
      "\n",
      "MEM: 30\n",
      "Result: 832040\n",
      "Exec Time: 0 ms\n",
      "\n",
      "TAB: 30\n",
      "Result: 832040\n",
      "Exec Time: 0 ms\n",
      "\n",
      "BF: 40\n",
      "Result: 102334155\n",
      "Exec Time: 550 ms\n",
      "\n",
      "MEM: 40\n",
      "Result: 102334155\n",
      "Exec Time: 0 ms\n",
      "\n",
      "TAB: 40\n",
      "Result: 102334155\n",
      "Exec Time: 0 ms\n",
      "\n",
      "======= ADVANCED =======\n",
      "Calculating 10000\n",
      "MEM: 10000\n",
      "Result: 1242044891\n",
      "Exec Time: 16 ms\n",
      "\n",
      "TAB: 10000\n",
      "Result: 1242044891\n",
      "Exec Time: 0 ms\n",
      "\n",
      ">> { dbg: N+1: 174 }\n",
      "TAB r1: 10000\n",
      "Result: 1242044891\n",
      "Exec Time: 0 ms\n",
      "\n",
      "Calculating 50000\n",
      "\n",
      "Program Error (stderr):\n",
      " \n",
      "\n",
      "Executable 'Fibonacci.exe' kept for inspection.\n"
     ]
    }
   ],
   "source": [
    "filepath = os.path.join(CWD, \"../cpp/Fibonacci.cpp\")\n",
    "compile_and_run_cpp(filepath, output_executable=\"Fibonacci.exe\")"
   ]
  }
 ],
 "metadata": {
  "kernelspec": {
   "display_name": "Python 3",
   "language": "python",
   "name": "python3"
  },
  "language_info": {
   "codemirror_mode": {
    "name": "ipython",
    "version": 3
   },
   "file_extension": ".py",
   "mimetype": "text/x-python",
   "name": "python",
   "nbconvert_exporter": "python",
   "pygments_lexer": "ipython3",
   "version": "3.11.7"
  }
 },
 "nbformat": 4,
 "nbformat_minor": 5
}
